{
 "cells": [
  {
   "cell_type": "markdown",
   "metadata": {
    "id": "0QcU2b-ax3K7"
   },
   "source": [
    "#**Netflix Movies and Shows Dataset -- Team Theta**\n",
    "\n",
    "\n",
    "\n"
   ]
  },
  {
   "cell_type": "markdown",
   "metadata": {
    "id": "Mm3xncyxx02n"
   },
   "source": [
    "### Questions\n",
    "##### 1. Which countries produce the most content on Netflix?  \n",
    "##### 2. How has the number of movies released changed over the years?\n",
    "##### 3. What are the most frequently occurring genres on Netflix?\n",
    "##### 4. Based on the description what tv show/movie is most similar?"
   ]
  },
  {
   "cell_type": "code",
   "execution_count": null,
   "metadata": {
    "colab": {
     "base_uri": "https://localhost:8080/",
     "height": 675
    },
    "id": "hkeQoZqjR8zb",
    "outputId": "b2585d0f-18f3-4036-edce-1dcd11a9157b"
   },
   "outputs": [
    {
     "name": "stdout",
     "output_type": "stream",
     "text": [
      "Looking in indexes: https://pypi.org/simple, https://us-python.pkg.dev/colab-wheels/public/simple/\n",
      "Collecting clean-text\n",
      "  Downloading clean_text-0.6.0-py3-none-any.whl (11 kB)\n",
      "Collecting emoji<2.0.0,>=1.0.0 (from clean-text)\n",
      "  Downloading emoji-1.7.0.tar.gz (175 kB)\n",
      "\u001b[2K     \u001b[90m━━━━━━━━━━━━━━━━━━━━━━━━━━━━━━━━━━━━━━━\u001b[0m \u001b[32m175.4/175.4 kB\u001b[0m \u001b[31m2.6 MB/s\u001b[0m eta \u001b[36m0:00:00\u001b[0m\n",
      "\u001b[?25h  Preparing metadata (setup.py) ... \u001b[?25l\u001b[?25hdone\n",
      "Collecting ftfy<7.0,>=6.0 (from clean-text)\n",
      "  Downloading ftfy-6.1.1-py3-none-any.whl (53 kB)\n",
      "\u001b[2K     \u001b[90m━━━━━━━━━━━━━━━━━━━━━━━━━━━━━━━━━━━━━━━━\u001b[0m \u001b[32m53.1/53.1 kB\u001b[0m \u001b[31m3.9 MB/s\u001b[0m eta \u001b[36m0:00:00\u001b[0m\n",
      "\u001b[?25hRequirement already satisfied: wcwidth>=0.2.5 in /usr/local/lib/python3.10/dist-packages (from ftfy<7.0,>=6.0->clean-text) (0.2.6)\n",
      "Building wheels for collected packages: emoji\n",
      "  Building wheel for emoji (setup.py) ... \u001b[?25l\u001b[?25hdone\n",
      "  Created wheel for emoji: filename=emoji-1.7.0-py3-none-any.whl size=171033 sha256=6c7fbaf979a459f2eb6955ca27db3b62303efed9a0297452f18639b2cf92c907\n",
      "  Stored in directory: /root/.cache/pip/wheels/31/8a/8c/315c9e5d7773f74b33d5ed33f075b49c6eaeb7cedbb86e2cf8\n",
      "Successfully built emoji\n",
      "Installing collected packages: emoji, ftfy, clean-text\n",
      "Successfully installed clean-text-0.6.0 emoji-1.7.0 ftfy-6.1.1\n"
     ]
    },
    {
     "ename": "FileNotFoundError",
     "evalue": "ignored",
     "output_type": "error",
     "traceback": [
      "\u001b[0;31m---------------------------------------------------------------------------\u001b[0m",
      "\u001b[0;31mFileNotFoundError\u001b[0m                         Traceback (most recent call last)",
      "\u001b[0;32m<ipython-input-2-c6d57129f287>\u001b[0m in \u001b[0;36m<cell line: 35>\u001b[0;34m()\u001b[0m\n\u001b[1;32m     33\u001b[0m \u001b[0mwarnings\u001b[0m\u001b[0;34m.\u001b[0m\u001b[0mfilterwarnings\u001b[0m\u001b[0;34m(\u001b[0m\u001b[0;34m'ignore'\u001b[0m\u001b[0;34m)\u001b[0m\u001b[0;34m\u001b[0m\u001b[0;34m\u001b[0m\u001b[0m\n\u001b[1;32m     34\u001b[0m \u001b[0;34m\u001b[0m\u001b[0m\n\u001b[0;32m---> 35\u001b[0;31m \u001b[0mdf\u001b[0m \u001b[0;34m=\u001b[0m \u001b[0mpd\u001b[0m\u001b[0;34m.\u001b[0m\u001b[0mread_csv\u001b[0m\u001b[0;34m(\u001b[0m\u001b[0;34m'titles.csv'\u001b[0m\u001b[0;34m)\u001b[0m\u001b[0;34m\u001b[0m\u001b[0;34m\u001b[0m\u001b[0m\n\u001b[0m\u001b[1;32m     36\u001b[0m \u001b[0mdf\u001b[0m\u001b[0;34m.\u001b[0m\u001b[0mhead\u001b[0m\u001b[0;34m(\u001b[0m\u001b[0;34m)\u001b[0m\u001b[0;34m\u001b[0m\u001b[0;34m\u001b[0m\u001b[0m\n",
      "\u001b[0;32m/usr/local/lib/python3.10/dist-packages/pandas/util/_decorators.py\u001b[0m in \u001b[0;36mwrapper\u001b[0;34m(*args, **kwargs)\u001b[0m\n\u001b[1;32m    209\u001b[0m                 \u001b[0;32melse\u001b[0m\u001b[0;34m:\u001b[0m\u001b[0;34m\u001b[0m\u001b[0;34m\u001b[0m\u001b[0m\n\u001b[1;32m    210\u001b[0m                     \u001b[0mkwargs\u001b[0m\u001b[0;34m[\u001b[0m\u001b[0mnew_arg_name\u001b[0m\u001b[0;34m]\u001b[0m \u001b[0;34m=\u001b[0m \u001b[0mnew_arg_value\u001b[0m\u001b[0;34m\u001b[0m\u001b[0;34m\u001b[0m\u001b[0m\n\u001b[0;32m--> 211\u001b[0;31m             \u001b[0;32mreturn\u001b[0m \u001b[0mfunc\u001b[0m\u001b[0;34m(\u001b[0m\u001b[0;34m*\u001b[0m\u001b[0margs\u001b[0m\u001b[0;34m,\u001b[0m \u001b[0;34m**\u001b[0m\u001b[0mkwargs\u001b[0m\u001b[0;34m)\u001b[0m\u001b[0;34m\u001b[0m\u001b[0;34m\u001b[0m\u001b[0m\n\u001b[0m\u001b[1;32m    212\u001b[0m \u001b[0;34m\u001b[0m\u001b[0m\n\u001b[1;32m    213\u001b[0m         \u001b[0;32mreturn\u001b[0m \u001b[0mcast\u001b[0m\u001b[0;34m(\u001b[0m\u001b[0mF\u001b[0m\u001b[0;34m,\u001b[0m \u001b[0mwrapper\u001b[0m\u001b[0;34m)\u001b[0m\u001b[0;34m\u001b[0m\u001b[0;34m\u001b[0m\u001b[0m\n",
      "\u001b[0;32m/usr/local/lib/python3.10/dist-packages/pandas/util/_decorators.py\u001b[0m in \u001b[0;36mwrapper\u001b[0;34m(*args, **kwargs)\u001b[0m\n\u001b[1;32m    329\u001b[0m                     \u001b[0mstacklevel\u001b[0m\u001b[0;34m=\u001b[0m\u001b[0mfind_stack_level\u001b[0m\u001b[0;34m(\u001b[0m\u001b[0;34m)\u001b[0m\u001b[0;34m,\u001b[0m\u001b[0;34m\u001b[0m\u001b[0;34m\u001b[0m\u001b[0m\n\u001b[1;32m    330\u001b[0m                 )\n\u001b[0;32m--> 331\u001b[0;31m             \u001b[0;32mreturn\u001b[0m \u001b[0mfunc\u001b[0m\u001b[0;34m(\u001b[0m\u001b[0;34m*\u001b[0m\u001b[0margs\u001b[0m\u001b[0;34m,\u001b[0m \u001b[0;34m**\u001b[0m\u001b[0mkwargs\u001b[0m\u001b[0;34m)\u001b[0m\u001b[0;34m\u001b[0m\u001b[0;34m\u001b[0m\u001b[0m\n\u001b[0m\u001b[1;32m    332\u001b[0m \u001b[0;34m\u001b[0m\u001b[0m\n\u001b[1;32m    333\u001b[0m         \u001b[0;31m# error: \"Callable[[VarArg(Any), KwArg(Any)], Any]\" has no\u001b[0m\u001b[0;34m\u001b[0m\u001b[0;34m\u001b[0m\u001b[0m\n",
      "\u001b[0;32m/usr/local/lib/python3.10/dist-packages/pandas/io/parsers/readers.py\u001b[0m in \u001b[0;36mread_csv\u001b[0;34m(filepath_or_buffer, sep, delimiter, header, names, index_col, usecols, squeeze, prefix, mangle_dupe_cols, dtype, engine, converters, true_values, false_values, skipinitialspace, skiprows, skipfooter, nrows, na_values, keep_default_na, na_filter, verbose, skip_blank_lines, parse_dates, infer_datetime_format, keep_date_col, date_parser, dayfirst, cache_dates, iterator, chunksize, compression, thousands, decimal, lineterminator, quotechar, quoting, doublequote, escapechar, comment, encoding, encoding_errors, dialect, error_bad_lines, warn_bad_lines, on_bad_lines, delim_whitespace, low_memory, memory_map, float_precision, storage_options)\u001b[0m\n\u001b[1;32m    948\u001b[0m     \u001b[0mkwds\u001b[0m\u001b[0;34m.\u001b[0m\u001b[0mupdate\u001b[0m\u001b[0;34m(\u001b[0m\u001b[0mkwds_defaults\u001b[0m\u001b[0;34m)\u001b[0m\u001b[0;34m\u001b[0m\u001b[0;34m\u001b[0m\u001b[0m\n\u001b[1;32m    949\u001b[0m \u001b[0;34m\u001b[0m\u001b[0m\n\u001b[0;32m--> 950\u001b[0;31m     \u001b[0;32mreturn\u001b[0m \u001b[0m_read\u001b[0m\u001b[0;34m(\u001b[0m\u001b[0mfilepath_or_buffer\u001b[0m\u001b[0;34m,\u001b[0m \u001b[0mkwds\u001b[0m\u001b[0;34m)\u001b[0m\u001b[0;34m\u001b[0m\u001b[0;34m\u001b[0m\u001b[0m\n\u001b[0m\u001b[1;32m    951\u001b[0m \u001b[0;34m\u001b[0m\u001b[0m\n\u001b[1;32m    952\u001b[0m \u001b[0;34m\u001b[0m\u001b[0m\n",
      "\u001b[0;32m/usr/local/lib/python3.10/dist-packages/pandas/io/parsers/readers.py\u001b[0m in \u001b[0;36m_read\u001b[0;34m(filepath_or_buffer, kwds)\u001b[0m\n\u001b[1;32m    603\u001b[0m \u001b[0;34m\u001b[0m\u001b[0m\n\u001b[1;32m    604\u001b[0m     \u001b[0;31m# Create the parser.\u001b[0m\u001b[0;34m\u001b[0m\u001b[0;34m\u001b[0m\u001b[0m\n\u001b[0;32m--> 605\u001b[0;31m     \u001b[0mparser\u001b[0m \u001b[0;34m=\u001b[0m \u001b[0mTextFileReader\u001b[0m\u001b[0;34m(\u001b[0m\u001b[0mfilepath_or_buffer\u001b[0m\u001b[0;34m,\u001b[0m \u001b[0;34m**\u001b[0m\u001b[0mkwds\u001b[0m\u001b[0;34m)\u001b[0m\u001b[0;34m\u001b[0m\u001b[0;34m\u001b[0m\u001b[0m\n\u001b[0m\u001b[1;32m    606\u001b[0m \u001b[0;34m\u001b[0m\u001b[0m\n\u001b[1;32m    607\u001b[0m     \u001b[0;32mif\u001b[0m \u001b[0mchunksize\u001b[0m \u001b[0;32mor\u001b[0m \u001b[0miterator\u001b[0m\u001b[0;34m:\u001b[0m\u001b[0;34m\u001b[0m\u001b[0;34m\u001b[0m\u001b[0m\n",
      "\u001b[0;32m/usr/local/lib/python3.10/dist-packages/pandas/io/parsers/readers.py\u001b[0m in \u001b[0;36m__init__\u001b[0;34m(self, f, engine, **kwds)\u001b[0m\n\u001b[1;32m   1440\u001b[0m \u001b[0;34m\u001b[0m\u001b[0m\n\u001b[1;32m   1441\u001b[0m         \u001b[0mself\u001b[0m\u001b[0;34m.\u001b[0m\u001b[0mhandles\u001b[0m\u001b[0;34m:\u001b[0m \u001b[0mIOHandles\u001b[0m \u001b[0;34m|\u001b[0m \u001b[0;32mNone\u001b[0m \u001b[0;34m=\u001b[0m \u001b[0;32mNone\u001b[0m\u001b[0;34m\u001b[0m\u001b[0;34m\u001b[0m\u001b[0m\n\u001b[0;32m-> 1442\u001b[0;31m         \u001b[0mself\u001b[0m\u001b[0;34m.\u001b[0m\u001b[0m_engine\u001b[0m \u001b[0;34m=\u001b[0m \u001b[0mself\u001b[0m\u001b[0;34m.\u001b[0m\u001b[0m_make_engine\u001b[0m\u001b[0;34m(\u001b[0m\u001b[0mf\u001b[0m\u001b[0;34m,\u001b[0m \u001b[0mself\u001b[0m\u001b[0;34m.\u001b[0m\u001b[0mengine\u001b[0m\u001b[0;34m)\u001b[0m\u001b[0;34m\u001b[0m\u001b[0;34m\u001b[0m\u001b[0m\n\u001b[0m\u001b[1;32m   1443\u001b[0m \u001b[0;34m\u001b[0m\u001b[0m\n\u001b[1;32m   1444\u001b[0m     \u001b[0;32mdef\u001b[0m \u001b[0mclose\u001b[0m\u001b[0;34m(\u001b[0m\u001b[0mself\u001b[0m\u001b[0;34m)\u001b[0m \u001b[0;34m->\u001b[0m \u001b[0;32mNone\u001b[0m\u001b[0;34m:\u001b[0m\u001b[0;34m\u001b[0m\u001b[0;34m\u001b[0m\u001b[0m\n",
      "\u001b[0;32m/usr/local/lib/python3.10/dist-packages/pandas/io/parsers/readers.py\u001b[0m in \u001b[0;36m_make_engine\u001b[0;34m(self, f, engine)\u001b[0m\n\u001b[1;32m   1733\u001b[0m                 \u001b[0;32mif\u001b[0m \u001b[0;34m\"b\"\u001b[0m \u001b[0;32mnot\u001b[0m \u001b[0;32min\u001b[0m \u001b[0mmode\u001b[0m\u001b[0;34m:\u001b[0m\u001b[0;34m\u001b[0m\u001b[0;34m\u001b[0m\u001b[0m\n\u001b[1;32m   1734\u001b[0m                     \u001b[0mmode\u001b[0m \u001b[0;34m+=\u001b[0m \u001b[0;34m\"b\"\u001b[0m\u001b[0;34m\u001b[0m\u001b[0;34m\u001b[0m\u001b[0m\n\u001b[0;32m-> 1735\u001b[0;31m             self.handles = get_handle(\n\u001b[0m\u001b[1;32m   1736\u001b[0m                 \u001b[0mf\u001b[0m\u001b[0;34m,\u001b[0m\u001b[0;34m\u001b[0m\u001b[0;34m\u001b[0m\u001b[0m\n\u001b[1;32m   1737\u001b[0m                 \u001b[0mmode\u001b[0m\u001b[0;34m,\u001b[0m\u001b[0;34m\u001b[0m\u001b[0;34m\u001b[0m\u001b[0m\n",
      "\u001b[0;32m/usr/local/lib/python3.10/dist-packages/pandas/io/common.py\u001b[0m in \u001b[0;36mget_handle\u001b[0;34m(path_or_buf, mode, encoding, compression, memory_map, is_text, errors, storage_options)\u001b[0m\n\u001b[1;32m    854\u001b[0m         \u001b[0;32mif\u001b[0m \u001b[0mioargs\u001b[0m\u001b[0;34m.\u001b[0m\u001b[0mencoding\u001b[0m \u001b[0;32mand\u001b[0m \u001b[0;34m\"b\"\u001b[0m \u001b[0;32mnot\u001b[0m \u001b[0;32min\u001b[0m \u001b[0mioargs\u001b[0m\u001b[0;34m.\u001b[0m\u001b[0mmode\u001b[0m\u001b[0;34m:\u001b[0m\u001b[0;34m\u001b[0m\u001b[0;34m\u001b[0m\u001b[0m\n\u001b[1;32m    855\u001b[0m             \u001b[0;31m# Encoding\u001b[0m\u001b[0;34m\u001b[0m\u001b[0;34m\u001b[0m\u001b[0m\n\u001b[0;32m--> 856\u001b[0;31m             handle = open(\n\u001b[0m\u001b[1;32m    857\u001b[0m                 \u001b[0mhandle\u001b[0m\u001b[0;34m,\u001b[0m\u001b[0;34m\u001b[0m\u001b[0;34m\u001b[0m\u001b[0m\n\u001b[1;32m    858\u001b[0m                 \u001b[0mioargs\u001b[0m\u001b[0;34m.\u001b[0m\u001b[0mmode\u001b[0m\u001b[0;34m,\u001b[0m\u001b[0;34m\u001b[0m\u001b[0;34m\u001b[0m\u001b[0m\n",
      "\u001b[0;31mFileNotFoundError\u001b[0m: [Errno 2] No such file or directory: 'titles.csv'"
     ]
    }
   ],
   "source": [
    "import numpy as np\n",
    "import pandas as pd\n",
    "import seaborn as sns\n",
    "import plotly.express as px\n",
    "import matplotlib.pyplot as plt\n",
    "import scipy.stats\n",
    "import statsmodels.api as sm\n",
    "import os\n",
    "import math\n",
    "import string\n",
    "import ast\n",
    "import random\n",
    "!pip install clean-text\n",
    "%matplotlib inline\n",
    "#ML Libraries\n",
    "from sklearn.preprocessing import MinMaxScaler\n",
    "from sklearn.impute import SimpleImputer\n",
    "from sklearn.model_selection import GridSearchCV, train_test_split, cross_val_score\n",
    "from sklearn.compose import ColumnTransformer\n",
    "from sklearn.base import BaseEstimator, TransformerMixin\n",
    "from sklearn.preprocessing import StandardScaler\n",
    "#  NLTK Libraries\n",
    "import nltk\n",
    "from nltk.corpus import stopwords\n",
    "from nltk.tokenize import word_tokenize\n",
    "from nltk.stem import WordNetLemmatizer\n",
    "from sklearn.feature_extraction.text import CountVectorizer\n",
    "import warnings\n",
    "warnings.filterwarnings('ignore')\n",
    "df = pd.read_csv('titles.csv')\n",
    "df.head()"
   ]
  },
  {
   "cell_type": "markdown",
   "metadata": {
    "id": "kYBmEOIixSJQ"
   },
   "source": [
    "#Descriptive Analysis"
   ]
  },
  {
   "cell_type": "code",
   "execution_count": null,
   "metadata": {
    "colab": {
     "base_uri": "https://localhost:8080/",
     "height": 183
    },
    "id": "DBGWWmVBSOlR",
    "outputId": "4beedb09-9fca-450d-e9cb-acfc1eef15b8"
   },
   "outputs": [
    {
     "ename": "NameError",
     "evalue": "ignored",
     "output_type": "error",
     "traceback": [
      "\u001b[0;31m---------------------------------------------------------------------------\u001b[0m",
      "\u001b[0;31mNameError\u001b[0m                                 Traceback (most recent call last)",
      "\u001b[0;32m<ipython-input-8-9fb45d8cd7cf>\u001b[0m in \u001b[0;36m<cell line: 2>\u001b[0;34m()\u001b[0m\n\u001b[1;32m      1\u001b[0m \u001b[0;31m# Info on data types, column names, counts, etc.\u001b[0m\u001b[0;34m\u001b[0m\u001b[0;34m\u001b[0m\u001b[0m\n\u001b[0;32m----> 2\u001b[0;31m \u001b[0mdf\u001b[0m\u001b[0;34m.\u001b[0m\u001b[0minfo\u001b[0m\u001b[0;34m(\u001b[0m\u001b[0;34m)\u001b[0m\u001b[0;34m\u001b[0m\u001b[0;34m\u001b[0m\u001b[0m\n\u001b[0m",
      "\u001b[0;31mNameError\u001b[0m: name 'df' is not defined"
     ]
    }
   ],
   "source": [
    "# Info on data types, column names, counts, etc.\n",
    "df.info()"
   ]
  },
  {
   "cell_type": "code",
   "execution_count": null,
   "metadata": {
    "colab": {
     "base_uri": "https://localhost:8080/"
    },
    "id": "PlSXhAsDTeRo",
    "outputId": "591099df-27c1-4356-c44a-a84c954b3a47"
   },
   "outputs": [
    {
     "data": {
      "text/plain": [
       "(5850, 15)"
      ]
     },
     "execution_count": 4,
     "metadata": {},
     "output_type": "execute_result"
    }
   ],
   "source": [
    "# shape of the original df\n",
    "df.shape"
   ]
  },
  {
   "cell_type": "code",
   "execution_count": null,
   "metadata": {
    "colab": {
     "base_uri": "https://localhost:8080/",
     "height": 364
    },
    "id": "DIK5-BCVxNFv",
    "outputId": "1d366568-2148-49da-c095-4fde7a9a1822"
   },
   "outputs": [
    {
     "data": {
      "text/html": [
       "\n",
       "  <div id=\"df-e5e9cba5-0da2-41a5-9085-6e0109b3a9c4\">\n",
       "    <div class=\"colab-df-container\">\n",
       "      <div>\n",
       "<style scoped>\n",
       "    .dataframe tbody tr th:only-of-type {\n",
       "        vertical-align: middle;\n",
       "    }\n",
       "\n",
       "    .dataframe tbody tr th {\n",
       "        vertical-align: top;\n",
       "    }\n",
       "\n",
       "    .dataframe thead th {\n",
       "        text-align: right;\n",
       "    }\n",
       "</style>\n",
       "<table border=\"1\" class=\"dataframe\">\n",
       "  <thead>\n",
       "    <tr style=\"text-align: right;\">\n",
       "      <th></th>\n",
       "      <th>release_year</th>\n",
       "      <th>runtime</th>\n",
       "      <th>seasons</th>\n",
       "      <th>imdb_score</th>\n",
       "      <th>imdb_votes</th>\n",
       "      <th>tmdb_popularity</th>\n",
       "      <th>tmdb_score</th>\n",
       "    </tr>\n",
       "  </thead>\n",
       "  <tbody>\n",
       "    <tr>\n",
       "      <th>count</th>\n",
       "      <td>5850.000000</td>\n",
       "      <td>5850.000000</td>\n",
       "      <td>2106.000000</td>\n",
       "      <td>5368.000000</td>\n",
       "      <td>5.352000e+03</td>\n",
       "      <td>5759.000000</td>\n",
       "      <td>5539.000000</td>\n",
       "    </tr>\n",
       "    <tr>\n",
       "      <th>mean</th>\n",
       "      <td>2016.417094</td>\n",
       "      <td>76.888889</td>\n",
       "      <td>2.162868</td>\n",
       "      <td>6.510861</td>\n",
       "      <td>2.343938e+04</td>\n",
       "      <td>22.637925</td>\n",
       "      <td>6.829175</td>\n",
       "    </tr>\n",
       "    <tr>\n",
       "      <th>std</th>\n",
       "      <td>6.937726</td>\n",
       "      <td>39.002509</td>\n",
       "      <td>2.689041</td>\n",
       "      <td>1.163826</td>\n",
       "      <td>9.582047e+04</td>\n",
       "      <td>81.680263</td>\n",
       "      <td>1.170391</td>\n",
       "    </tr>\n",
       "    <tr>\n",
       "      <th>min</th>\n",
       "      <td>1945.000000</td>\n",
       "      <td>0.000000</td>\n",
       "      <td>1.000000</td>\n",
       "      <td>1.500000</td>\n",
       "      <td>5.000000e+00</td>\n",
       "      <td>0.009442</td>\n",
       "      <td>0.500000</td>\n",
       "    </tr>\n",
       "    <tr>\n",
       "      <th>25%</th>\n",
       "      <td>2016.000000</td>\n",
       "      <td>44.000000</td>\n",
       "      <td>1.000000</td>\n",
       "      <td>5.800000</td>\n",
       "      <td>5.167500e+02</td>\n",
       "      <td>2.728500</td>\n",
       "      <td>6.100000</td>\n",
       "    </tr>\n",
       "    <tr>\n",
       "      <th>50%</th>\n",
       "      <td>2018.000000</td>\n",
       "      <td>83.000000</td>\n",
       "      <td>1.000000</td>\n",
       "      <td>6.600000</td>\n",
       "      <td>2.233500e+03</td>\n",
       "      <td>6.821000</td>\n",
       "      <td>6.900000</td>\n",
       "    </tr>\n",
       "    <tr>\n",
       "      <th>75%</th>\n",
       "      <td>2020.000000</td>\n",
       "      <td>104.000000</td>\n",
       "      <td>2.000000</td>\n",
       "      <td>7.300000</td>\n",
       "      <td>9.494000e+03</td>\n",
       "      <td>16.590000</td>\n",
       "      <td>7.537500</td>\n",
       "    </tr>\n",
       "    <tr>\n",
       "      <th>max</th>\n",
       "      <td>2022.000000</td>\n",
       "      <td>240.000000</td>\n",
       "      <td>42.000000</td>\n",
       "      <td>9.600000</td>\n",
       "      <td>2.294231e+06</td>\n",
       "      <td>2274.044000</td>\n",
       "      <td>10.000000</td>\n",
       "    </tr>\n",
       "  </tbody>\n",
       "</table>\n",
       "</div>\n",
       "      <button class=\"colab-df-convert\" onclick=\"convertToInteractive('df-e5e9cba5-0da2-41a5-9085-6e0109b3a9c4')\"\n",
       "              title=\"Convert this dataframe to an interactive table.\"\n",
       "              style=\"display:none;\">\n",
       "        \n",
       "  <svg xmlns=\"http://www.w3.org/2000/svg\" height=\"24px\"viewBox=\"0 0 24 24\"\n",
       "       width=\"24px\">\n",
       "    <path d=\"M0 0h24v24H0V0z\" fill=\"none\"/>\n",
       "    <path d=\"M18.56 5.44l.94 2.06.94-2.06 2.06-.94-2.06-.94-.94-2.06-.94 2.06-2.06.94zm-11 1L8.5 8.5l.94-2.06 2.06-.94-2.06-.94L8.5 2.5l-.94 2.06-2.06.94zm10 10l.94 2.06.94-2.06 2.06-.94-2.06-.94-.94-2.06-.94 2.06-2.06.94z\"/><path d=\"M17.41 7.96l-1.37-1.37c-.4-.4-.92-.59-1.43-.59-.52 0-1.04.2-1.43.59L10.3 9.45l-7.72 7.72c-.78.78-.78 2.05 0 2.83L4 21.41c.39.39.9.59 1.41.59.51 0 1.02-.2 1.41-.59l7.78-7.78 2.81-2.81c.8-.78.8-2.07 0-2.86zM5.41 20L4 18.59l7.72-7.72 1.47 1.35L5.41 20z\"/>\n",
       "  </svg>\n",
       "      </button>\n",
       "      \n",
       "  <style>\n",
       "    .colab-df-container {\n",
       "      display:flex;\n",
       "      flex-wrap:wrap;\n",
       "      gap: 12px;\n",
       "    }\n",
       "\n",
       "    .colab-df-convert {\n",
       "      background-color: #E8F0FE;\n",
       "      border: none;\n",
       "      border-radius: 50%;\n",
       "      cursor: pointer;\n",
       "      display: none;\n",
       "      fill: #1967D2;\n",
       "      height: 32px;\n",
       "      padding: 0 0 0 0;\n",
       "      width: 32px;\n",
       "    }\n",
       "\n",
       "    .colab-df-convert:hover {\n",
       "      background-color: #E2EBFA;\n",
       "      box-shadow: 0px 1px 2px rgba(60, 64, 67, 0.3), 0px 1px 3px 1px rgba(60, 64, 67, 0.15);\n",
       "      fill: #174EA6;\n",
       "    }\n",
       "\n",
       "    [theme=dark] .colab-df-convert {\n",
       "      background-color: #3B4455;\n",
       "      fill: #D2E3FC;\n",
       "    }\n",
       "\n",
       "    [theme=dark] .colab-df-convert:hover {\n",
       "      background-color: #434B5C;\n",
       "      box-shadow: 0px 1px 3px 1px rgba(0, 0, 0, 0.15);\n",
       "      filter: drop-shadow(0px 1px 2px rgba(0, 0, 0, 0.3));\n",
       "      fill: #FFFFFF;\n",
       "    }\n",
       "  </style>\n",
       "\n",
       "      <script>\n",
       "        const buttonEl =\n",
       "          document.querySelector('#df-e5e9cba5-0da2-41a5-9085-6e0109b3a9c4 button.colab-df-convert');\n",
       "        buttonEl.style.display =\n",
       "          google.colab.kernel.accessAllowed ? 'block' : 'none';\n",
       "\n",
       "        async function convertToInteractive(key) {\n",
       "          const element = document.querySelector('#df-e5e9cba5-0da2-41a5-9085-6e0109b3a9c4');\n",
       "          const dataTable =\n",
       "            await google.colab.kernel.invokeFunction('convertToInteractive',\n",
       "                                                     [key], {});\n",
       "          if (!dataTable) return;\n",
       "\n",
       "          const docLinkHtml = 'Like what you see? Visit the ' +\n",
       "            '<a target=\"_blank\" href=https://colab.research.google.com/notebooks/data_table.ipynb>data table notebook</a>'\n",
       "            + ' to learn more about interactive tables.';\n",
       "          element.innerHTML = '';\n",
       "          dataTable['output_type'] = 'display_data';\n",
       "          await google.colab.output.renderOutput(dataTable, element);\n",
       "          const docLink = document.createElement('div');\n",
       "          docLink.innerHTML = docLinkHtml;\n",
       "          element.appendChild(docLink);\n",
       "        }\n",
       "      </script>\n",
       "    </div>\n",
       "  </div>\n",
       "  "
      ],
      "text/plain": [
       "       release_year      runtime      seasons   imdb_score    imdb_votes  \\\n",
       "count   5850.000000  5850.000000  2106.000000  5368.000000  5.352000e+03   \n",
       "mean    2016.417094    76.888889     2.162868     6.510861  2.343938e+04   \n",
       "std        6.937726    39.002509     2.689041     1.163826  9.582047e+04   \n",
       "min     1945.000000     0.000000     1.000000     1.500000  5.000000e+00   \n",
       "25%     2016.000000    44.000000     1.000000     5.800000  5.167500e+02   \n",
       "50%     2018.000000    83.000000     1.000000     6.600000  2.233500e+03   \n",
       "75%     2020.000000   104.000000     2.000000     7.300000  9.494000e+03   \n",
       "max     2022.000000   240.000000    42.000000     9.600000  2.294231e+06   \n",
       "\n",
       "       tmdb_popularity   tmdb_score  \n",
       "count      5759.000000  5539.000000  \n",
       "mean         22.637925     6.829175  \n",
       "std          81.680263     1.170391  \n",
       "min           0.009442     0.500000  \n",
       "25%           2.728500     6.100000  \n",
       "50%           6.821000     6.900000  \n",
       "75%          16.590000     7.537500  \n",
       "max        2274.044000    10.000000  "
      ]
     },
     "execution_count": 5,
     "metadata": {},
     "output_type": "execute_result"
    }
   ],
   "source": [
    "# the df described\n",
    "df.describe()"
   ]
  },
  {
   "cell_type": "code",
   "execution_count": null,
   "metadata": {
    "colab": {
     "base_uri": "https://localhost:8080/",
     "height": 288
    },
    "id": "kl8q_DJaxnAM",
    "outputId": "b89a9988-67e7-4317-daf3-e1b77ac8e2df"
   },
   "outputs": [
    {
     "data": {
      "text/html": [
       "<style type=\"text/css\">\n",
       "#T_94ce8_row0_col0, #T_94ce8_row1_col1, #T_94ce8_row2_col2, #T_94ce8_row3_col3, #T_94ce8_row4_col4, #T_94ce8_row5_col5, #T_94ce8_row6_col6 {\n",
       "  background-color: #67000d;\n",
       "  color: #f1f1f1;\n",
       "}\n",
       "#T_94ce8_row0_col1 {\n",
       "  background-color: #fee8dd;\n",
       "  color: #000000;\n",
       "}\n",
       "#T_94ce8_row0_col2, #T_94ce8_row0_col4, #T_94ce8_row1_col3, #T_94ce8_row1_col5, #T_94ce8_row1_col6, #T_94ce8_row2_col0, #T_94ce8_row6_col1 {\n",
       "  background-color: #fff5f0;\n",
       "  color: #000000;\n",
       "}\n",
       "#T_94ce8_row0_col3 {\n",
       "  background-color: #fff2ec;\n",
       "  color: #000000;\n",
       "}\n",
       "#T_94ce8_row0_col5 {\n",
       "  background-color: #ffeee7;\n",
       "  color: #000000;\n",
       "}\n",
       "#T_94ce8_row0_col6, #T_94ce8_row1_col2 {\n",
       "  background-color: #fcbda4;\n",
       "  color: #000000;\n",
       "}\n",
       "#T_94ce8_row1_col0, #T_94ce8_row2_col3, #T_94ce8_row5_col1 {\n",
       "  background-color: #fcc4ad;\n",
       "  color: #000000;\n",
       "}\n",
       "#T_94ce8_row1_col4 {\n",
       "  background-color: #fcaf93;\n",
       "  color: #000000;\n",
       "}\n",
       "#T_94ce8_row2_col1 {\n",
       "  background-color: #fee3d7;\n",
       "  color: #000000;\n",
       "}\n",
       "#T_94ce8_row2_col4 {\n",
       "  background-color: #fc9d7f;\n",
       "  color: #000000;\n",
       "}\n",
       "#T_94ce8_row2_col5 {\n",
       "  background-color: #fdd4c2;\n",
       "  color: #000000;\n",
       "}\n",
       "#T_94ce8_row2_col6 {\n",
       "  background-color: #fcbba1;\n",
       "  color: #000000;\n",
       "}\n",
       "#T_94ce8_row3_col0 {\n",
       "  background-color: #fcbca2;\n",
       "  color: #000000;\n",
       "}\n",
       "#T_94ce8_row3_col1 {\n",
       "  background-color: #fee5d8;\n",
       "  color: #000000;\n",
       "}\n",
       "#T_94ce8_row3_col2 {\n",
       "  background-color: #fc8767;\n",
       "  color: #f1f1f1;\n",
       "}\n",
       "#T_94ce8_row3_col4 {\n",
       "  background-color: #fca183;\n",
       "  color: #000000;\n",
       "}\n",
       "#T_94ce8_row3_col5 {\n",
       "  background-color: #fff3ed;\n",
       "  color: #000000;\n",
       "}\n",
       "#T_94ce8_row3_col6 {\n",
       "  background-color: #e43027;\n",
       "  color: #f1f1f1;\n",
       "}\n",
       "#T_94ce8_row4_col0 {\n",
       "  background-color: #fdcbb6;\n",
       "  color: #000000;\n",
       "}\n",
       "#T_94ce8_row4_col1 {\n",
       "  background-color: #fca285;\n",
       "  color: #000000;\n",
       "}\n",
       "#T_94ce8_row4_col2 {\n",
       "  background-color: #fb7353;\n",
       "  color: #f1f1f1;\n",
       "}\n",
       "#T_94ce8_row4_col3 {\n",
       "  background-color: #fcad90;\n",
       "  color: #000000;\n",
       "}\n",
       "#T_94ce8_row4_col5 {\n",
       "  background-color: #fdc7b2;\n",
       "  color: #000000;\n",
       "}\n",
       "#T_94ce8_row4_col6 {\n",
       "  background-color: #fca98c;\n",
       "  color: #000000;\n",
       "}\n",
       "#T_94ce8_row5_col0, #T_94ce8_row6_col2 {\n",
       "  background-color: #fc9576;\n",
       "  color: #000000;\n",
       "}\n",
       "#T_94ce8_row5_col2 {\n",
       "  background-color: #fb7b5b;\n",
       "  color: #f1f1f1;\n",
       "}\n",
       "#T_94ce8_row5_col3 {\n",
       "  background-color: #fedbcc;\n",
       "  color: #000000;\n",
       "}\n",
       "#T_94ce8_row5_col4 {\n",
       "  background-color: #fc9c7d;\n",
       "  color: #000000;\n",
       "}\n",
       "#T_94ce8_row5_col6 {\n",
       "  background-color: #fcb398;\n",
       "  color: #000000;\n",
       "}\n",
       "#T_94ce8_row6_col0 {\n",
       "  background-color: #fc9879;\n",
       "  color: #000000;\n",
       "}\n",
       "#T_94ce8_row6_col3 {\n",
       "  background-color: #ee3a2c;\n",
       "  color: #f1f1f1;\n",
       "}\n",
       "#T_94ce8_row6_col4 {\n",
       "  background-color: #fcb69b;\n",
       "  color: #000000;\n",
       "}\n",
       "#T_94ce8_row6_col5 {\n",
       "  background-color: #feeae0;\n",
       "  color: #000000;\n",
       "}\n",
       "</style>\n",
       "<table id=\"T_94ce8\" class=\"dataframe\">\n",
       "  <thead>\n",
       "    <tr>\n",
       "      <th class=\"blank level0\" >&nbsp;</th>\n",
       "      <th id=\"T_94ce8_level0_col0\" class=\"col_heading level0 col0\" >release_year</th>\n",
       "      <th id=\"T_94ce8_level0_col1\" class=\"col_heading level0 col1\" >runtime</th>\n",
       "      <th id=\"T_94ce8_level0_col2\" class=\"col_heading level0 col2\" >seasons</th>\n",
       "      <th id=\"T_94ce8_level0_col3\" class=\"col_heading level0 col3\" >imdb_score</th>\n",
       "      <th id=\"T_94ce8_level0_col4\" class=\"col_heading level0 col4\" >imdb_votes</th>\n",
       "      <th id=\"T_94ce8_level0_col5\" class=\"col_heading level0 col5\" >tmdb_popularity</th>\n",
       "      <th id=\"T_94ce8_level0_col6\" class=\"col_heading level0 col6\" >tmdb_score</th>\n",
       "    </tr>\n",
       "  </thead>\n",
       "  <tbody>\n",
       "    <tr>\n",
       "      <th id=\"T_94ce8_level0_row0\" class=\"row_heading level0 row0\" >release_year</th>\n",
       "      <td id=\"T_94ce8_row0_col0\" class=\"data row0 col0\" >1.000000</td>\n",
       "      <td id=\"T_94ce8_row0_col1\" class=\"data row0 col1\" >-0.173551</td>\n",
       "      <td id=\"T_94ce8_row0_col2\" class=\"data row0 col2\" >-0.504407</td>\n",
       "      <td id=\"T_94ce8_row0_col3\" class=\"data row0 col3\" >-0.129380</td>\n",
       "      <td id=\"T_94ce8_row0_col4\" class=\"data row0 col4\" >-0.208815</td>\n",
       "      <td id=\"T_94ce8_row0_col5\" class=\"data row0 col5\" >0.043244</td>\n",
       "      <td id=\"T_94ce8_row0_col6\" class=\"data row0 col6\" >0.032073</td>\n",
       "    </tr>\n",
       "    <tr>\n",
       "      <th id=\"T_94ce8_level0_row1\" class=\"row_heading level0 row1\" >runtime</th>\n",
       "      <td id=\"T_94ce8_row1_col0\" class=\"data row1 col0\" >-0.173551</td>\n",
       "      <td id=\"T_94ce8_row1_col1\" class=\"data row1 col1\" >1.000000</td>\n",
       "      <td id=\"T_94ce8_row1_col2\" class=\"data row1 col2\" >-0.139642</td>\n",
       "      <td id=\"T_94ce8_row1_col3\" class=\"data row1 col3\" >-0.148068</td>\n",
       "      <td id=\"T_94ce8_row1_col4\" class=\"data row1 col4\" >0.139760</td>\n",
       "      <td id=\"T_94ce8_row1_col5\" class=\"data row1 col5\" >0.002545</td>\n",
       "      <td id=\"T_94ce8_row1_col6\" class=\"data row1 col6\" >-0.277454</td>\n",
       "    </tr>\n",
       "    <tr>\n",
       "      <th id=\"T_94ce8_level0_row2\" class=\"row_heading level0 row2\" >seasons</th>\n",
       "      <td id=\"T_94ce8_row2_col0\" class=\"data row2 col0\" >-0.504407</td>\n",
       "      <td id=\"T_94ce8_row2_col1\" class=\"data row2 col1\" >-0.139642</td>\n",
       "      <td id=\"T_94ce8_row2_col2\" class=\"data row2 col2\" >1.000000</td>\n",
       "      <td id=\"T_94ce8_row2_col3\" class=\"data row2 col3\" >0.106806</td>\n",
       "      <td id=\"T_94ce8_row2_col4\" class=\"data row2 col4\" >0.206079</td>\n",
       "      <td id=\"T_94ce8_row2_col5\" class=\"data row2 col5\" >0.168051</td>\n",
       "      <td id=\"T_94ce8_row2_col6\" class=\"data row2 col6\" >0.044023</td>\n",
       "    </tr>\n",
       "    <tr>\n",
       "      <th id=\"T_94ce8_level0_row3\" class=\"row_heading level0 row3\" >imdb_score</th>\n",
       "      <td id=\"T_94ce8_row3_col0\" class=\"data row3 col0\" >-0.129380</td>\n",
       "      <td id=\"T_94ce8_row3_col1\" class=\"data row3 col1\" >-0.148068</td>\n",
       "      <td id=\"T_94ce8_row3_col2\" class=\"data row3 col2\" >0.106806</td>\n",
       "      <td id=\"T_94ce8_row3_col3\" class=\"data row3 col3\" >1.000000</td>\n",
       "      <td id=\"T_94ce8_row3_col4\" class=\"data row3 col4\" >0.190661</td>\n",
       "      <td id=\"T_94ce8_row3_col5\" class=\"data row3 col5\" >0.017675</td>\n",
       "      <td id=\"T_94ce8_row3_col6\" class=\"data row3 col6\" >0.570754</td>\n",
       "    </tr>\n",
       "    <tr>\n",
       "      <th id=\"T_94ce8_level0_row4\" class=\"row_heading level0 row4\" >imdb_votes</th>\n",
       "      <td id=\"T_94ce8_row4_col0\" class=\"data row4 col0\" >-0.208815</td>\n",
       "      <td id=\"T_94ce8_row4_col1\" class=\"data row4 col1\" >0.139760</td>\n",
       "      <td id=\"T_94ce8_row4_col2\" class=\"data row4 col2\" >0.206079</td>\n",
       "      <td id=\"T_94ce8_row4_col3\" class=\"data row4 col3\" >0.190661</td>\n",
       "      <td id=\"T_94ce8_row4_col4\" class=\"data row4 col4\" >1.000000</td>\n",
       "      <td id=\"T_94ce8_row4_col5\" class=\"data row4 col5\" >0.209763</td>\n",
       "      <td id=\"T_94ce8_row4_col6\" class=\"data row4 col6\" >0.112960</td>\n",
       "    </tr>\n",
       "    <tr>\n",
       "      <th id=\"T_94ce8_level0_row5\" class=\"row_heading level0 row5\" >tmdb_popularity</th>\n",
       "      <td id=\"T_94ce8_row5_col0\" class=\"data row5 col0\" >0.043244</td>\n",
       "      <td id=\"T_94ce8_row5_col1\" class=\"data row5 col1\" >0.002545</td>\n",
       "      <td id=\"T_94ce8_row5_col2\" class=\"data row5 col2\" >0.168051</td>\n",
       "      <td id=\"T_94ce8_row5_col3\" class=\"data row5 col3\" >0.017675</td>\n",
       "      <td id=\"T_94ce8_row5_col4\" class=\"data row5 col4\" >0.209763</td>\n",
       "      <td id=\"T_94ce8_row5_col5\" class=\"data row5 col5\" >1.000000</td>\n",
       "      <td id=\"T_94ce8_row5_col6\" class=\"data row5 col6\" >0.071894</td>\n",
       "    </tr>\n",
       "    <tr>\n",
       "      <th id=\"T_94ce8_level0_row6\" class=\"row_heading level0 row6\" >tmdb_score</th>\n",
       "      <td id=\"T_94ce8_row6_col0\" class=\"data row6 col0\" >0.032073</td>\n",
       "      <td id=\"T_94ce8_row6_col1\" class=\"data row6 col1\" >-0.277454</td>\n",
       "      <td id=\"T_94ce8_row6_col2\" class=\"data row6 col2\" >0.044023</td>\n",
       "      <td id=\"T_94ce8_row6_col3\" class=\"data row6 col3\" >0.570754</td>\n",
       "      <td id=\"T_94ce8_row6_col4\" class=\"data row6 col4\" >0.112960</td>\n",
       "      <td id=\"T_94ce8_row6_col5\" class=\"data row6 col5\" >0.071894</td>\n",
       "      <td id=\"T_94ce8_row6_col6\" class=\"data row6 col6\" >1.000000</td>\n",
       "    </tr>\n",
       "  </tbody>\n",
       "</table>\n"
      ],
      "text/plain": [
       "<pandas.io.formats.style.Styler at 0x7f8694151c00>"
      ]
     },
     "execution_count": 6,
     "metadata": {},
     "output_type": "execute_result"
    }
   ],
   "source": [
    "# Correlation between features\n",
    "corr =  df.corr()\n",
    "corr.style.background_gradient(cmap='Reds')"
   ]
  },
  {
   "cell_type": "markdown",
   "metadata": {
    "id": "DDl_TYG1Vg3h"
   },
   "source": [
    "#Data Cleaning\n",
    "##### A. Removing rows with imcompete datas (IE, missing votes/ ratings)\n",
    "##### B. Removing columns that wont be utilized in order to make data set easier to read(runtime, age_cert, seasons, etc)\n",
    "##### C. Reducing \"genres\" and \"production_countries\" to one tag."
   ]
  },
  {
   "cell_type": "code",
   "execution_count": null,
   "metadata": {
    "colab": {
     "base_uri": "https://localhost:8080/",
     "height": 200
    },
    "id": "hqorvFUTSG6e",
    "outputId": "ff8db0b4-6b49-4647-ad41-bdaaf240dd24"
   },
   "outputs": [
    {
     "ename": "NameError",
     "evalue": "ignored",
     "output_type": "error",
     "traceback": [
      "\u001b[0;31m---------------------------------------------------------------------------\u001b[0m",
      "\u001b[0;31mNameError\u001b[0m                                 Traceback (most recent call last)",
      "\u001b[0;32m<ipython-input-7-5c8d086b0a9d>\u001b[0m in \u001b[0;36m<cell line: 4>\u001b[0;34m()\u001b[0m\n\u001b[1;32m      2\u001b[0m \u001b[0;31m# columns = ID, Age, Runtime, Seasons, IMDB_ID)\u001b[0m\u001b[0;34m\u001b[0m\u001b[0;34m\u001b[0m\u001b[0m\n\u001b[1;32m      3\u001b[0m \u001b[0;34m\u001b[0m\u001b[0m\n\u001b[0;32m----> 4\u001b[0;31m \u001b[0mdf\u001b[0m \u001b[0;34m=\u001b[0m \u001b[0mdf\u001b[0m\u001b[0;34m.\u001b[0m\u001b[0mdrop\u001b[0m\u001b[0;34m(\u001b[0m\u001b[0mcolumns\u001b[0m\u001b[0;34m=\u001b[0m\u001b[0;34m[\u001b[0m\u001b[0;34m\"id\"\u001b[0m\u001b[0;34m,\u001b[0m \u001b[0;34m\"age_certification\"\u001b[0m\u001b[0;34m,\u001b[0m\u001b[0;34m\"runtime\"\u001b[0m\u001b[0;34m,\u001b[0m \u001b[0;34m\"seasons\"\u001b[0m\u001b[0;34m,\u001b[0m \u001b[0;34m\"imdb_id\"\u001b[0m\u001b[0;34m]\u001b[0m\u001b[0;34m)\u001b[0m\u001b[0;34m\u001b[0m\u001b[0;34m\u001b[0m\u001b[0m\n\u001b[0m",
      "\u001b[0;31mNameError\u001b[0m: name 'df' is not defined"
     ]
    }
   ],
   "source": [
    "# Dropping columns we do not need first\n",
    "# columns = ID, Age, Runtime, Seasons, IMDB_ID)\n",
    "df = df.drop(columns=[\"id\", \"age_certification\",\"runtime\", \"seasons\", \"imdb_id\"])"
   ]
  },
  {
   "cell_type": "code",
   "execution_count": null,
   "metadata": {
    "id": "k9-RaHHWTMyL"
   },
   "outputs": [],
   "source": [
    "# Checking for duplicate values, then removing them.\n",
    "dup_df = df.duplicated().any()\n",
    "print(\"Any duplicate values?\", dup_df) # returns False\n",
    "# Checking for missing values, then removing them.\n",
    "print(\"Any missing value?\", df.isnull().values.any()) # returns True\n",
    "df.dropna(axis = 0, inplace= True)\n",
    "print(df.isnull().sum())"
   ]
  },
  {
   "cell_type": "code",
   "execution_count": null,
   "metadata": {
    "id": "ACoqgIx6TThH"
   },
   "outputs": [],
   "source": [
    "# Filtering dataset to movies that were released after 2010.\n",
    "# The purpose of this is to reduce dataset to more relevant information\n",
    "#df = df[df['release_year'] > 2010]"
   ]
  },
  {
   "cell_type": "code",
   "execution_count": null,
   "metadata": {
    "id": "p79LAzbrvztW"
   },
   "outputs": [],
   "source": [
    "# Cleaning the production_countries for readability\n",
    "# Some title's have multiple production countries\n",
    "df['production_countries'] = df['production_countries'].str.replace(r\"[\", '').str.replace(r\"'\", '').str.replace(r\"]\", '')\n",
    "df['production_countries_2'] = df['production_countries'].str.split(',').str[0]\n",
    "df.production_countries_2 = df.production_countries_2.replace('', np.nan)\n",
    "#Dropping orginal production_countries column, renaming the second one\n",
    "df.drop('production_countries', axis=1, inplace=True)\n",
    "df.rename(columns={'production_countries_2': 'production_countries'}, inplace=True)\n",
    "df.head()"
   ]
  },
  {
   "cell_type": "markdown",
   "metadata": {
    "id": "bRSJk7cYrSKO"
   },
   "source": [
    "Pre-processing/Cleaning for Genre analysis below"
   ]
  },
  {
   "cell_type": "code",
   "execution_count": null,
   "metadata": {
    "colab": {
     "base_uri": "https://localhost:8080/",
     "height": 217
    },
    "id": "_i5xrnO2raxW",
    "outputId": "cfda876a-6379-4fe4-b6ad-6dd7751e90ba"
   },
   "outputs": [
    {
     "ename": "NameError",
     "evalue": "ignored",
     "output_type": "error",
     "traceback": [
      "\u001b[0;31m---------------------------------------------------------------------------\u001b[0m",
      "\u001b[0;31mNameError\u001b[0m                                 Traceback (most recent call last)",
      "\u001b[0;32m<ipython-input-6-3812afd93cde>\u001b[0m in \u001b[0;36m<cell line: 1>\u001b[0;34m()\u001b[0m\n\u001b[0;32m----> 1\u001b[0;31m \u001b[0mdf\u001b[0m\u001b[0;34m[\u001b[0m\u001b[0;34m'genres'\u001b[0m\u001b[0;34m]\u001b[0m\u001b[0;34m.\u001b[0m\u001b[0mvalue_counts\u001b[0m\u001b[0;34m(\u001b[0m\u001b[0;34m)\u001b[0m\u001b[0;34m\u001b[0m\u001b[0;34m\u001b[0m\u001b[0m\n\u001b[0m\u001b[1;32m      2\u001b[0m \u001b[0;34m\u001b[0m\u001b[0m\n\u001b[1;32m      3\u001b[0m \u001b[0;31m# Due to the structure of the data, the method cannot parse the values in the most fitting manner.\u001b[0m\u001b[0;34m\u001b[0m\u001b[0;34m\u001b[0m\u001b[0m\n\u001b[1;32m      4\u001b[0m \u001b[0;31m# We must parse the genres ourselves.\u001b[0m\u001b[0;34m\u001b[0m\u001b[0;34m\u001b[0m\u001b[0m\n",
      "\u001b[0;31mNameError\u001b[0m: name 'df' is not defined"
     ]
    }
   ],
   "source": [
    "df['genres'].value_counts()\n",
    "# Due to the structure of the data, the method cannot parse the values in the most fitting manner.\n",
    "# We must parse the genres ourselves."
   ]
  },
  {
   "cell_type": "code",
   "execution_count": null,
   "metadata": {
    "id": "PLWobbITrsYS"
   },
   "outputs": [],
   "source": [
    "# Modifying the get_genres function to transform the original columns\n",
    "# We will only use the first element of each value in the genres column\n",
    "# The first genre seems to be the one that represents the movie/show the most\n",
    "def transform_genres(row):\n",
    "parsed = (str(row)[1:-1]).split(\",\")\n",
    "genres = {}\n",
    "for i in range(len(parsed)):\n",
    "genre = parsed[i].strip()[1:-1]\n",
    "if genre != '':\n",
    "if genre not in genres.keys():\n",
    "genres[genre] = 0\n",
    "genres[genre] += 1\n",
    "return max(genres, key=genres.get) if genres else 'none'\n",
    "# Preforming the transformation\n",
    "df['genres_transformed'] = df['genres'].map(transform_genres)\n",
    "df['genres_transformed'].value_counts()"
   ]
  },
  {
   "cell_type": "code",
   "execution_count": null,
   "metadata": {
    "id": "hLZdU0v-rdt7"
   },
   "outputs": [],
   "source": [
    "# Parse genre column and function\n",
    "genres = {}\n",
    "def get_genres(row):\n",
    "parsed = (str(row)[1:-1]).split(\",\")\n",
    "for i in range(len(parsed)):\n",
    "parsed[i] = parsed[i].strip()\n",
    "parsed[i] = parsed[i][1:-1]\n",
    "for i in parsed:\n",
    "if i not in genres.keys():\n",
    "genres[i] = 0\n",
    "continue\n",
    "genres[i] += 1\n",
    "return row\n",
    "df['genres'] = df['genres'].map(get_genres)\n",
    "genres"
   ]
  },
  {
   "cell_type": "code",
   "execution_count": null,
   "metadata": {
    "id": "bB8KN8l8wuKE"
   },
   "outputs": [],
   "source": [
    "#Dropping orginal genres column, renaming the transformed one\n",
    "df.drop('genres', axis=1, inplace=True)\n",
    "df.rename(columns={'genres_transformed': 'genres'}, inplace=True)\n",
    "df.head()"
   ]
  },
  {
   "cell_type": "markdown",
   "metadata": {
    "id": "NYu-o4YZVns3"
   },
   "source": [
    "#Exploratory Data Analysis - EDA"
   ]
  },
  {
   "cell_type": "code",
   "execution_count": null,
   "metadata": {
    "colab": {
     "base_uri": "https://localhost:8080/",
     "height": 784
    },
    "id": "UTPgg3uYT973",
    "outputId": "361e9587-cb87-4c71-89a5-f8af1d9e1551"
   },
   "outputs": [
    {
     "data": {
      "text/plain": [
       "<Figure size 1500x1000 with 0 Axes>"
      ]
     },
     "metadata": {},
     "output_type": "display_data"
    },
    {
     "data": {
      "image/png": "[encoded data removed]",
      "text/plain": [
       "<Figure size 1200x600 with 2 Axes>"
      ]
     },
     "metadata": {},
     "output_type": "display_data"
    }
   ],
   "source": [
    "# Pie/Bar Charts of the dataset types\n",
    "types = df.groupby('type').size().reset_index().rename(columns = {0:'counts'})\n",
    "types\n",
    "def figure_size():\n",
    "f = plt.figure()\n",
    "f.set_figwidth(15)\n",
    "f.set_figheight(10)\n",
    "font = {'family' : 'normal','size'   : 13}\n",
    "figure_size()\n",
    "langs= types.type\n",
    "fig, axes = plt.subplots(1,2, figsize=(12,6))\n",
    "plt.tight_layout(pad=2)\n",
    "sns.set_style(\"darkgrid\")\n",
    "a1=sns.barplot(x = types.type,y = types.counts,ax=axes[0], palette='Reds');\n",
    "a1.set(xlabel='Types', ylabel='Counts')\n",
    "plt.pie(types.counts,autopct='%1.2f%%',labels = langs,radius=1.5,labeldistance=1.1 ,   rotatelabels=True, colors=['#C70039', '#FF5733'])\n",
    "plt.legend()\n",
    "plt.show()"
   ]
  },
  {
   "cell_type": "code",
   "execution_count": null,
   "metadata": {
    "colab": {
     "base_uri": "https://localhost:8080/"
    },
    "id": "U35Hszs1xiJM",
    "outputId": "ab3b6c36-787b-445d-eab6-77c31b76f489"
   },
   "outputs": [
    {
     "name": "stdout",
     "output_type": "stream",
     "text": [
      "3270\n",
      "1859\n"
     ]
    }
   ],
   "source": [
    "movie_df = df[df['type'] == 'MOVIE']\n",
    "show_df = df[df['type'] == 'SHOW']\n",
    "movie_count = movie_df['title'].count()\n",
    "show_count = show_df['title'].count()\n",
    "print(movie_count)\n",
    "print(show_count)"
   ]
  },
  {
   "cell_type": "code",
   "execution_count": null,
   "metadata": {
    "colab": {
     "base_uri": "https://localhost:8080/",
     "height": 645
    },
    "id": "oOcZrGaYWp4O",
    "outputId": "6b8faa7d-61cd-4cc9-ee97-9d9c2fc2ceb4"
   },
   "outputs": [
    {
     "data": {
      "image/png": "[encoded data removed]",
      "text/plain": [
       "<Figure size 1000x600 with 1 Axes>"
      ]
     },
     "metadata": {},
     "output_type": "display_data"
    }
   ],
   "source": [
    "# A Bar chart that answer's the question: Which country produces the most content on Netflix?\n",
    "df_country = pd.DataFrame(df.production_countries.value_counts()).head(10)\n",
    "order = df_country.index\n",
    "plt.figure(figsize=(10,6))\n",
    "plt.title('\\nTop 10 Countries by Amount of Movies\\n', fontsize=18)\n",
    "sns.countplot(y=df.production_countries,  , order=order)\n",
    "plt.xlabel('Movie Count')\n",
    "plt.ylabel('Country')\n",
    "plt.show()\n",
    "#Analysis: Countries of movie production"
   ]
  },
  {
   "cell_type": "code",
   "execution_count": null,
   "metadata": {
    "colab": {
     "base_uri": "https://localhost:8080/",
     "height": 235
    },
    "id": "OS2hwDC7VxgK",
    "outputId": "864583da-71a0-490f-b404-5ed5923934c3"
   },
   "outputs": [
    {
     "ename": "NameError",
     "evalue": "ignored",
     "output_type": "error",
     "traceback": [
      "\u001b[0;31m---------------------------------------------------------------------------\u001b[0m",
      "\u001b[0;31mNameError\u001b[0m                                 Traceback (most recent call last)",
      "\u001b[0;32m<ipython-input-9-c17d54a52dcd>\u001b[0m in \u001b[0;36m<cell line: 1>\u001b[0;34m()\u001b[0m\n\u001b[0;32m----> 1\u001b[0;31m \u001b[0mtop_10_countries\u001b[0m \u001b[0;34m=\u001b[0m \u001b[0mdf\u001b[0m\u001b[0;34m[\u001b[0m\u001b[0;34m'production_countries'\u001b[0m\u001b[0;34m]\u001b[0m\u001b[0;34m.\u001b[0m\u001b[0mvalue_counts\u001b[0m\u001b[0;34m(\u001b[0m\u001b[0;34m)\u001b[0m\u001b[0;34m.\u001b[0m\u001b[0mhead\u001b[0m\u001b[0;34m(\u001b[0m\u001b[0;36m10\u001b[0m\u001b[0;34m)\u001b[0m\u001b[0;34m\u001b[0m\u001b[0;34m\u001b[0m\u001b[0m\n\u001b[0m\u001b[1;32m      2\u001b[0m \u001b[0mtop_10_countries\u001b[0m \u001b[0;34m=\u001b[0m \u001b[0mtop_10_countries\u001b[0m\u001b[0;34m.\u001b[0m\u001b[0msort_values\u001b[0m\u001b[0;34m(\u001b[0m\u001b[0mascending\u001b[0m\u001b[0;34m=\u001b[0m\u001b[0;32mFalse\u001b[0m\u001b[0;34m)\u001b[0m\u001b[0;34m\u001b[0m\u001b[0;34m\u001b[0m\u001b[0m\n\u001b[1;32m      3\u001b[0m \u001b[0mtop_10_countries\u001b[0m \u001b[0;34m=\u001b[0m \u001b[0mtop_10_countries\u001b[0m\u001b[0;34m.\u001b[0m\u001b[0mindex\u001b[0m\u001b[0;34m.\u001b[0m\u001b[0mtolist\u001b[0m\u001b[0;34m(\u001b[0m\u001b[0;34m)\u001b[0m\u001b[0;34m\u001b[0m\u001b[0;34m\u001b[0m\u001b[0m\n\u001b[1;32m      4\u001b[0m \u001b[0;34m\u001b[0m\u001b[0m\n\u001b[1;32m      5\u001b[0m \u001b[0mdf_top_10\u001b[0m \u001b[0;34m=\u001b[0m \u001b[0mdf\u001b[0m\u001b[0;34m[\u001b[0m\u001b[0mdf\u001b[0m\u001b[0;34m[\u001b[0m\u001b[0;34m'production_countries'\u001b[0m\u001b[0;34m]\u001b[0m\u001b[0;34m.\u001b[0m\u001b[0misin\u001b[0m\u001b[0;34m(\u001b[0m\u001b[0mtop_10_countries\u001b[0m\u001b[0;34m)\u001b[0m\u001b[0;34m]\u001b[0m\u001b[0;34m\u001b[0m\u001b[0;34m\u001b[0m\u001b[0m\n",
      "\u001b[0;31mNameError\u001b[0m: name 'df' is not defined"
     ]
    }
   ],
   "source": [
    "top_10_countries = df['production_countries'].value_counts().head(10)\n",
    "top_10_countries = top_10_countries.sort_values(ascending=False)\n",
    "top_10_countries = top_10_countries.index.tolist()\n",
    "df_top_10 = df[df['production_countries'].isin(top_10_countries)]\n",
    "avg_scores_by_country = df_top_10.groupby('production_countries')['imdb_score'].mean()\n",
    "avg_scores_by_country = avg_scores_by_country.sort_values(ascending=False)\n",
    "plt.figure(figsize=(12,8))\n",
    "sns.set_palette('Reds_r')\n",
    "sns.barplot(avg_scores_by_country.index, avg_scores_by_country.values, palette='Reds_r')\n",
    "plt.title('Average IMDB Score by Top 10 Producing Countries')\n",
    "plt.xlabel('Country')\n",
    "sns.set_palette('Reds_r')\n",
    "plt.xticks(rotation=45)\n",
    "plt.ylabel('Average IMDB Score')\n",
    "plt.show()"
   ]
  },
  {
   "cell_type": "code",
   "execution_count": null,
   "metadata": {
    "colab": {
     "base_uri": "https://localhost:8080/"
    },
    "id": "5rCaP9--ypO2",
    "outputId": "0ddf9b5d-6e0b-4e0d-e074-37eddc5723a1"
   },
   "outputs": [
    {
     "name": "stdout",
     "output_type": "stream",
     "text": [
      "1908\n",
      "556\n",
      "269\n"
     ]
    }
   ],
   "source": [
    "US_df = df[df['production_countries'] == 'US']\n",
    "IN_df = df[df['production_countries'] == 'IN']\n",
    "GB_df = df[df['production_countries'] == 'GB']\n",
    "US_count = US_df['title'].count()\n",
    "IN_count = IN_df['title'].count()\n",
    "GB_count = GB_df['title'].count()\n",
    "print(US_count)\n",
    "print(IN_count)\n",
    "print(GB_count)"
   ]
  },
  {
   "cell_type": "code",
   "execution_count": null,
   "metadata": {
    "colab": {
     "base_uri": "https://localhost:8080/",
     "height": 888
    },
    "id": "XJo9vL9osMDg",
    "outputId": "05c7dcc5-9c9f-454c-8712-7ca2e803dc63"
   },
   "outputs": [
    {
     "data": {
      "text/plain": [
       "<Axes: xlabel='count', ylabel='genres'>"
      ]
     },
     "execution_count": 17,
     "metadata": {},
     "output_type": "execute_result"
    },
    {
     "data": {
      "image/png": "[encoded data removed]",
      "text/plain": [
       "<Figure size 2000x1000 with 1 Axes>"
      ]
     },
     "metadata": {},
     "output_type": "display_data"
    }
   ],
   "source": [
    "#Distribution of Genres\n",
    "df['genres'].replace(to_replace='documentation', value='documentary', inplace=True)\n",
    "filtered_df = df[df['genres'] != 'none']\n",
    "plt.figure(figsize=(20,10))\n",
    "sns.countplot(data=filtered_df, y='genres', palette='Reds_r', order=df['genres'].value_counts().index)"
   ]
  },
  {
   "cell_type": "code",
   "execution_count": null,
   "metadata": {
    "colab": {
     "base_uri": "https://localhost:8080/"
    },
    "id": "Z3Kx3eVT6SoN",
    "outputId": "b98ef841-1747-406e-bf68-7555fbe1808c"
   },
   "outputs": [
    {
     "name": "stdout",
     "output_type": "stream",
     "text": [
      "1261\n",
      "1192\n",
      "547\n"
     ]
    }
   ],
   "source": [
    "drama_df = df[df['genres'] == 'drama']\n",
    "comedy_df = df[df['genres'] == 'comedy']\n",
    "doc_df = df[df['genres'] == 'documentary']\n",
    "drama_count = drama_df['title'].count()\n",
    "comedy_count = comedy_df['title'].count()\n",
    "doc_count = doc_df['title'].count()\n",
    "print(drama_count)\n",
    "print(comedy_count)\n",
    "print(doc_count)"
   ]
  },
  {
   "cell_type": "code",
   "execution_count": null,
   "metadata": {
    "colab": {
     "base_uri": "https://localhost:8080/",
     "height": 572
    },
    "id": "PGhVsVSesdPe",
    "outputId": "7b9e8cbb-5cfd-438e-d7a6-37977ff6a863"
   },
   "outputs": [
    {
     "data": {
      "text/plain": [
       "Text(0.5, 1.0, 'Total Released Content by Year')"
      ]
     },
     "execution_count": 18,
     "metadata": {},
     "output_type": "execute_result"
    },
    {
     "data": {
      "image/png": "[encoded data removed]",
      "text/plain": [
       "<Figure size 1500x500 with 1 Axes>"
      ]
     },
     "metadata": {},
     "output_type": "display_data"
    }
   ],
   "source": [
    "# Amount of movies based on release_year\n",
    "sns.displot(data=df, x='release_year', kind='hist', kde=True,\n",
    "color='#fdc100', facecolor='red', edgecolor='#64b6ac', line_kws={'lw': 3}, aspect=3)\n",
    "plt.title('Total Released Content by Year', fontsize=18, weight=600, color='#333d29')"
   ]
  },
  {
   "cell_type": "code",
   "execution_count": null,
   "metadata": {
    "colab": {
     "base_uri": "https://localhost:8080/"
    },
    "id": "mHGKU8K1MJnh",
    "outputId": "15f69008-f1fd-4d6b-9b03-23953faa2141"
   },
   "outputs": [
    {
     "name": "stdout",
     "output_type": "stream",
     "text": [
      "715\n"
     ]
    }
   ],
   "source": [
    "max_df = df[df['release_year'] == 2019]\n",
    "max_count = max_df['title'].count()\n",
    "print(max_count)"
   ]
  },
  {
   "cell_type": "code",
   "execution_count": null,
   "metadata": {
    "colab": {
     "base_uri": "https://localhost:8080/"
    },
    "id": "aJeYA7tE38vn",
    "outputId": "550c9a03-8968-4e87-c29a-4b6d2ff14f9d"
   },
   "outputs": [
    {
     "name": "stdout",
     "output_type": "stream",
     "text": [
      "1954\n",
      "2\n"
     ]
    }
   ],
   "source": [
    "# Get the minimum release year\n",
    "min_release_year = df['release_year'].min()\n",
    "print(min_release_year)\n",
    "min_df = df[df['release_year'] == 1954]\n",
    "min_count = min_df['title'].count()\n",
    "print(min_count)"
   ]
  },
  {
   "cell_type": "markdown",
   "metadata": {
    "id": "H9u0vGCosTRW"
   },
   "source": [
    "#Data Analytics Techniques: Natural Language Processing\n"
   ]
  },
  {
   "cell_type": "code",
   "execution_count": null,
   "metadata": {
    "id": "wHIAODwIVknd"
   },
   "outputs": [],
   "source": [
    "df2 = df.copy()\n",
    "df2 = df[df[\"type\"] == \"MOVIE\"].reset_index(drop=True)\n",
    "df2.shape"
   ]
  },
  {
   "cell_type": "code",
   "execution_count": null,
   "metadata": {
    "id": "C10-OlOQs5WZ"
   },
   "outputs": [],
   "source": [
    "#Defining NLP functions\n",
    "#Function to remove punctuation\n",
    "def remove_punc(text):\n",
    "text = text.translate(str.maketrans('', '', string.punctuation))\n",
    "return text\n",
    "#Function to remove all capitalizations\n",
    "def go_lower(text):\n",
    "text = text.lower()\n",
    "return text\n",
    "#Function to clean and remove all emojis, special characters etc\n",
    "from cleantext import clean\n",
    "def no_emoji(text):\n",
    "clean_text = clean(text, no_emoji = True)\n",
    "return clean_text"
   ]
  },
  {
   "cell_type": "code",
   "execution_count": null,
   "metadata": {
    "id": "q8z9NuXSutPf"
   },
   "outputs": [],
   "source": [
    "#Function implementation (con't)\n",
    "nltk.download('stopwords')\n",
    "nltk.download('punkt')\n",
    "nltk.download('averaged_perceptron_tagger')\n",
    "nltk.download('wordnet')\n",
    "nltk.download('omw-1.4')\n",
    "# Function to remove stopwords\n",
    "def remove_stops(text):\n",
    "stop_words = set(stopwords.words(\"english\"))\n",
    "word_tokens = word_tokenize(text)\n",
    "filtered_sentence = [w for w in word_tokens if not w.lower() in stop_words]\n",
    "filtered_sentence_str = ' '.join(filtered_sentence)\n",
    "return filtered_sentence_str\n",
    "#Function to tokenize\n",
    "def tokenizer(text):\n",
    "tokens = word_tokenize(text)\n",
    "return tokens\n",
    "#Function to lemmatize\n",
    "def lemmas(tokens):\n",
    "lemmatizer = WordNetLemmatizer()\n",
    "lemmatized = []\n",
    "for token in tokens:\n",
    "lemma_word = lemmatizer.lemmatize(token)\n",
    "lemmatized.append(lemma_word)\n",
    "return lemmatized\n",
    "# Function to convert list of tokens to one string of words\n",
    "def list_to_string(data):\n",
    "data = \" \".join(data)\n",
    "return data"
   ]
  },
  {
   "cell_type": "code",
   "execution_count": null,
   "metadata": {
    "id": "rBfk72QZwE4_"
   },
   "outputs": [],
   "source": [
    "# Applying NLP Algorithm\n",
    "df2[\"description\"] = df2[\"description\"].apply(no_emoji)\n",
    "df2[\"description\"] = df2[\"description\"].apply(go_lower)\n",
    "df2[\"description\"] = df2[\"description\"].apply(remove_punc)\n",
    "df2[\"description\"] = df2[\"description\"].apply(remove_stops)\n",
    "df2.head(3)"
   ]
  },
  {
   "cell_type": "markdown",
   "metadata": {
    "id": "lOqhaQF8snzz"
   },
   "source": [
    "# Intuition behind TF-IDF Vectorizer\n",
    "\n",
    "We take the  movie plot, cleaning them through some NLP techniques and then creating a TFIDF vectors for each plot. Then we get a huge TFIDF matrix from all the movie plots.\n",
    "\n",
    "The TFIDF is a term frequency that counts the number of times each word shows up in the description. But it goes one step further and decreases the importance of highly frequent words in the description. If a word like 'earth' occurs very frequently in many movie plots then it really does not have that much weight and importance. On the other side a word like \"Hobbit\" is a word occuring in very few movies and hence any movies with the word \"Hobbit\" in the plot would generate a very high tfidf score\n",
    "\n",
    "Based on the frequency of each word and the relative importance of the word the TFIDF is calculated and the scores can be structured as vectors\n",
    "\n",
    "\n",
    "\n"
   ]
  },
  {
   "cell_type": "code",
   "execution_count": null,
   "metadata": {
    "id": "hBWRtMjMwrGt"
   },
   "outputs": [],
   "source": [
    "# Creating TF-IDF Vectorizer\n",
    "from sklearn.feature_extraction.text import TfidfVectorizer\n",
    "from sklearn.metrics.pairwise import cosine_similarity\n",
    "from sklearn.metrics.pairwise import linear_kernel\n",
    "# Create TFIDF object instance\n",
    "tfidf = TfidfVectorizer()\n",
    "# Generate the tfidf matrix from the plot descriptions\n",
    "tfidf_matrix = tfidf.fit_transform(df2[\"description\"])\n",
    "# Compute the cosine similarity matrix\n",
    "cosine_sim_tfidf = linear_kernel(tfidf_matrix, tfidf_matrix)"
   ]
  },
  {
   "cell_type": "code",
   "execution_count": null,
   "metadata": {
    "id": "AexnkIyaxWt8"
   },
   "outputs": [],
   "source": [
    "# Recommendation system: Based on the description, what movie/show is most similar?\n",
    "# Create a simple function to extract the necessary info needed from our original dataframe\n",
    "def get_df_info(df,_column, _index):\n",
    "info = df[_column][_index]\n",
    "return info\n",
    "def recommendation_engine(movie_title, cosine_similar):\n",
    "recommended_movies = []\n",
    "movie_desc_list = []\n",
    "imdb_ids = []\n",
    "streaming_platform_list = []\n",
    "cost_list = []\n",
    "imdb_score_list = []\n",
    "# Obtain the index of our movie title\n",
    "index = df[df['title'] == movie_title].index[0]\n",
    "# Sort through our cosine similarity matrix and find the top 10 values for this specific movie title index\n",
    "similarity_score = pd.Series(cosine_similar[index]).sort_values(ascending=False)\n",
    "# Get index of these films\n",
    "top_10_content = (similarity_score.iloc[1:11].index)\n",
    "# Create a tuple for each film, we use the get_df_info function for ease of use\n",
    "movie_data = [(get_df_info(df,'title',i), get_df_info(df,'type',i), get_df_info(df,'description',i), get_df_info(df,'release_year',i),\n",
    "get_df_info(df,'imdb_score',i), get_df_info(df,'imdb_votes',i)) for i in top_10_content if get_df_info(df,'title',i) != movie_title]\n",
    "# Append to our empty lists\n",
    "recommended_movies = [m[0] for m in movie_data]\n",
    "content_type = [m[1] for m in movie_data]\n",
    "description = [m[2] for m in movie_data]\n",
    "release_year = [m[3] for m in movie_data]\n",
    "imdb_score = [m[4] for m in movie_data]\n",
    "imdb_votes = [m[5] for m in movie_data]\n",
    "# Arrange them in a dictionary\n",
    "recommended_dict = {'Title': recommended_movies, \"Type\": content_type,\"Description\":  description,\n",
    "\"Release Year\": release_year, \"imdb_scores\": imdb_score,\"imdb_votes\": imdb_votes}\n",
    "recommended_df = pd.DataFrame.from_dict(recommended_dict)\n",
    "# Note that sometimes the same content is avilable in multiple streaming services, so we will do a groupby and show all the availabilities\n",
    "if recommended_df[\"Title\"].duplicated().sum() > 0:\n",
    "recommended_df  = recommended_df.groupby(\"Movie Name\",as_index = False,sort = False).agg({\"release_year\":lambda x: \", \".join([i for i in x]),\n",
    "\"imdb_score\": lambda y: \", \".join([j for j in y]),\n",
    "\"Plot\": 'first', \"type\":'first', \"desctiption\": 'max'})\n",
    "return recommended_df"
   ]
  },
  {
   "cell_type": "code",
   "execution_count": null,
   "metadata": {
    "id": "oWpXQW3Gxe7y"
   },
   "outputs": [],
   "source": [
    "# What happens if we use the Movie 'Taxi Driver' as the recommendation\n",
    "# Withdrew the tmdb_votes/scores for readability\n",
    "recommendation_engine(\"Taxi Driver\", cosine_sim_tfidf)"
   ]
  },
  {
   "cell_type": "code",
   "execution_count": null,
   "metadata": {
    "id": "DiJHs8DqKibX"
   },
   "outputs": [],
   "source": [
    "# What happens if we use the Movie 'NCIS' as the recommendation\n",
    "# Withdrew the tmdb_votes/scores for readability\n",
    "recommendation_engine(\"NCIS\", cosine_sim_tfidf)"
   ]
  },
  {
   "cell_type": "code",
   "execution_count": null,
   "metadata": {
    "id": "TbUv4sWdyP3v"
   },
   "outputs": [],
   "source": [
    "# Results:\n",
    "# It is hard to say if these movie/shows are genuinely alike to Taxi Driver, simply based on the description.\n",
    "#Limitations:\n",
    "# Time\n",
    "# With more time, we can invest more into the project -- working on a time crunch\n",
    "# Computing Power\n",
    "# Large datasets and larger recommendation models require more computing power/RAM\n",
    "# Learning Curve\n",
    "# One-hot encoding the genres\n",
    "# Working with recommendation models\n",
    "# Normalizing the votes\n",
    "# In the future:\n",
    "# A hybrid model may work to include the scores and genres as well\n",
    "# Possibly by working to one-hot encode the genres\n",
    "# Upskilling in NLP may benefit when making recommendation models\n",
    "# We would also like to investigate the possibility of developing a predictive model that can determine\n",
    "# the popularity of a TV show or movie onNetflixbased on various features such as its genre, rating,\n",
    "# country of production and othe relevant factors."
   ]
  },
  {
   "cell_type": "code",
   "execution_count": null,
   "metadata": {
    "id": "3315UfRRDce6"
   },
   "outputs": [],
   "source": []
  }
 ],
 "metadata": {
  "colab": {
   "provenance": []
  },
  "kernelspec": {
   "display_name": "Python 3",
   "name": "python3"
  },
  "language_info": {
   "name": "python"
  }
 },
 "nbformat": 4,
 "nbformat_minor": 0
}
